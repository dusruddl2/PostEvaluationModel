{
 "cells": [
  {
   "cell_type": "code",
   "execution_count": 57,
   "id": "cedc97c4",
   "metadata": {},
   "outputs": [],
   "source": [
    "import numpy as np\n",
    "import pandas as pd"
   ]
  },
  {
   "cell_type": "markdown",
   "id": "feb82283",
   "metadata": {},
   "source": [
    "# 고객 약속 배송성과\n",
    "### 12시 기준\n",
    "\n",
    "### 30에 가까울수록 좋은 것 (망목)\n",
    "\n",
    "### 최솟값 : 0, 최댓값 : 60\n",
    "\n",
    "- 11:30을 최솟값 0점으로 설정하고, 12:00을 30점, 12:30을 최댓값 60점으로 세팅"
   ]
  },
  {
   "cell_type": "code",
   "execution_count": 58,
   "id": "f6de4c4f",
   "metadata": {
    "scrolled": false
   },
   "outputs": [
    {
     "data": {
      "text/html": [
       "<div>\n",
       "<style scoped>\n",
       "    .dataframe tbody tr th:only-of-type {\n",
       "        vertical-align: middle;\n",
       "    }\n",
       "\n",
       "    .dataframe tbody tr th {\n",
       "        vertical-align: top;\n",
       "    }\n",
       "\n",
       "    .dataframe thead th {\n",
       "        text-align: right;\n",
       "    }\n",
       "</style>\n",
       "<table border=\"1\" class=\"dataframe\">\n",
       "  <thead>\n",
       "    <tr style=\"text-align: right;\">\n",
       "      <th></th>\n",
       "      <th>기업명</th>\n",
       "      <th>도착시간1</th>\n",
       "      <th>도착점수1</th>\n",
       "      <th>도착시간2</th>\n",
       "      <th>도착점수2</th>\n",
       "      <th>도착시간3</th>\n",
       "      <th>도착점수3</th>\n",
       "      <th>도착시간4</th>\n",
       "      <th>도착점수4</th>\n",
       "      <th>도착시간5</th>\n",
       "      <th>도착점수5</th>\n",
       "    </tr>\n",
       "  </thead>\n",
       "  <tbody>\n",
       "    <tr>\n",
       "      <th>0</th>\n",
       "      <td>배달업체 1</td>\n",
       "      <td>11:50</td>\n",
       "      <td>20</td>\n",
       "      <td>11:42</td>\n",
       "      <td>12</td>\n",
       "      <td>12:24</td>\n",
       "      <td>54</td>\n",
       "      <td>12:11</td>\n",
       "      <td>41</td>\n",
       "      <td>11:45</td>\n",
       "      <td>15</td>\n",
       "    </tr>\n",
       "    <tr>\n",
       "      <th>1</th>\n",
       "      <td>배달업체 2</td>\n",
       "      <td>12:01</td>\n",
       "      <td>31</td>\n",
       "      <td>12:03</td>\n",
       "      <td>33</td>\n",
       "      <td>11:54</td>\n",
       "      <td>24</td>\n",
       "      <td>12:08</td>\n",
       "      <td>38</td>\n",
       "      <td>11:57</td>\n",
       "      <td>27</td>\n",
       "    </tr>\n",
       "    <tr>\n",
       "      <th>2</th>\n",
       "      <td>배달업체 3</td>\n",
       "      <td>12:24</td>\n",
       "      <td>54</td>\n",
       "      <td>12:30</td>\n",
       "      <td>60</td>\n",
       "      <td>11:31</td>\n",
       "      <td>1</td>\n",
       "      <td>11:33</td>\n",
       "      <td>3</td>\n",
       "      <td>12:29</td>\n",
       "      <td>59</td>\n",
       "    </tr>\n",
       "    <tr>\n",
       "      <th>3</th>\n",
       "      <td>배달업체 4</td>\n",
       "      <td>11:47</td>\n",
       "      <td>17</td>\n",
       "      <td>11:52</td>\n",
       "      <td>22</td>\n",
       "      <td>12:01</td>\n",
       "      <td>31</td>\n",
       "      <td>11:58</td>\n",
       "      <td>28</td>\n",
       "      <td>12:11</td>\n",
       "      <td>41</td>\n",
       "    </tr>\n",
       "    <tr>\n",
       "      <th>4</th>\n",
       "      <td>배달업체 5</td>\n",
       "      <td>12:14</td>\n",
       "      <td>44</td>\n",
       "      <td>11:39</td>\n",
       "      <td>9</td>\n",
       "      <td>11:30</td>\n",
       "      <td>0</td>\n",
       "      <td>12:28</td>\n",
       "      <td>58</td>\n",
       "      <td>11:54</td>\n",
       "      <td>24</td>\n",
       "    </tr>\n",
       "  </tbody>\n",
       "</table>\n",
       "</div>"
      ],
      "text/plain": [
       "      기업명  도착시간1  도착점수1  도착시간2  도착점수2  도착시간3  도착점수3  도착시간4  도착점수4  도착시간5  \\\n",
       "0  배달업체 1  11:50     20  11:42     12  12:24     54  12:11     41  11:45   \n",
       "1  배달업체 2  12:01     31  12:03     33  11:54     24  12:08     38  11:57   \n",
       "2  배달업체 3  12:24     54  12:30     60  11:31      1  11:33      3  12:29   \n",
       "3  배달업체 4  11:47     17  11:52     22  12:01     31  11:58     28  12:11   \n",
       "4  배달업체 5  12:14     44  11:39      9  11:30      0  12:28     58  11:54   \n",
       "\n",
       "   도착점수5  \n",
       "0     15  \n",
       "1     27  \n",
       "2     59  \n",
       "3     41  \n",
       "4     24  "
      ]
     },
     "execution_count": 58,
     "metadata": {},
     "output_type": "execute_result"
    }
   ],
   "source": [
    "input_an = pd.read_csv('./data/만족도모델_입력데이터_기업명2.csv', encoding='cp949')\n",
    "\n",
    "input_an"
   ]
  },
  {
   "cell_type": "code",
   "execution_count": 59,
   "id": "c679e696",
   "metadata": {},
   "outputs": [
    {
     "data": {
      "text/plain": [
       "array([['배달업체 1', '11:50', 20, '11:42', 12, '12:24', 54, '12:11', 41,\n",
       "        '11:45', 15],\n",
       "       ['배달업체 2', '12:01', 31, '12:03', 33, '11:54', 24, '12:08', 38,\n",
       "        '11:57', 27],\n",
       "       ['배달업체 3', '12:24', 54, '12:30', 60, '11:31', 1, '11:33', 3,\n",
       "        '12:29', 59],\n",
       "       ['배달업체 4', '11:47', 17, '11:52', 22, '12:01', 31, '11:58', 28,\n",
       "        '12:11', 41],\n",
       "       ['배달업체 5', '12:14', 44, '11:39', 9, '11:30', 0, '12:28', 58,\n",
       "        '11:54', 24]], dtype=object)"
      ]
     },
     "execution_count": 59,
     "metadata": {},
     "output_type": "execute_result"
    }
   ],
   "source": [
    "input_an = np.array(input_an)\n",
    "input_an"
   ]
  },
  {
   "cell_type": "code",
   "execution_count": 60,
   "id": "43c4cd61",
   "metadata": {
    "scrolled": true
   },
   "outputs": [
    {
     "data": {
      "text/plain": [
       "[(0, 0, 7.5),\n",
       " (0, 7.5, 15.0),\n",
       " (7.5, 15.0, 22.5),\n",
       " (15.0, 22.5, 30.0),\n",
       " (22.5, 30.0, 37.5),\n",
       " (30.0, 37.5, 45.0),\n",
       " (37.5, 45.0, 52.5),\n",
       " (45.0, 52.5, 60.0),\n",
       " (52.5, 60, 60)]"
      ]
     },
     "execution_count": 60,
     "metadata": {},
     "output_type": "execute_result"
    }
   ],
   "source": [
    "# 삼각 퍼지수 구간\n",
    "\n",
    "pts_list = []\n",
    "a = 0; b = 7.5; c = 15\n",
    "\n",
    "for i in range(9):\n",
    "    # 1번째 & 2번째 삼각퍼지수\n",
    "    if a == 0:\n",
    "        # 1번째 삼각퍼지수\n",
    "        if i == 0:\n",
    "            b = 0; c = 7.5\n",
    "            pts_list.append((a, b, c))\n",
    "            \n",
    "        # 2번째 삼각퍼지수    \n",
    "        else:\n",
    "            b += 7.5; c += 7.5\n",
    "            pts_list.append((a, b, c))\n",
    "            a += 7.5; b += 7.5; c += 7.5\n",
    "            \n",
    "        \n",
    "    # 9번째 삼각퍼지수\n",
    "    elif a == 52.5:\n",
    "        b = 60; c = 60\n",
    "        pts_list.append((a, b, c))\n",
    "        \n",
    "    # 3-8번째 삼각퍼지수\n",
    "    else:\n",
    "        pts_list.append((a, b, c))\n",
    "        a += 7.5; b += 7.5; c += 7.5\n",
    "        \n",
    "pts_list"
   ]
  },
  {
   "cell_type": "code",
   "execution_count": 61,
   "id": "2da18d16",
   "metadata": {},
   "outputs": [],
   "source": [
    "########이렇게 설정히는게 맞을까요?#########\n",
    "\n",
    "def triangular_fuzzy(time):\n",
    "    if 0 <= time and time < 7.5 - 3.75:\n",
    "        index = 0\n",
    "    elif 7.5 - 3.75 <= time and time < 7.5 + 3.75:\n",
    "        index = 1\n",
    "    elif 15 - 3.75 <= time and time < 15 + 3.75:\n",
    "        index = 2\n",
    "    elif 22.5 - 3.75 <= time and time < 22.5 + 3.75:\n",
    "        index = 3\n",
    "    elif 30 - 3.75 <= time and time < 30 + 3.75:\n",
    "        index = 4\n",
    "    elif 37.5 - 3.75 <= time and time < 37.5 + 3.75:\n",
    "        index = 5\n",
    "    elif 45 - 3.75 <= time and time < 45 + 3.75:\n",
    "        index = 6\n",
    "    elif 52.5 - 3.75 <= time and time < 52.5 + 3.75:\n",
    "        index = 7\n",
    "    elif 60 - 3.75 <= time and time <= 60 :\n",
    "        index = 8\n",
    "    \n",
    "    return index"
   ]
  },
  {
   "cell_type": "code",
   "execution_count": 62,
   "id": "557733e2",
   "metadata": {},
   "outputs": [],
   "source": [
    "def subtract(intv1, intv2):\n",
    "    a = intv1[0] - intv2[2]\n",
    "    b = intv1[1] - intv2[1]\n",
    "    c = intv1[2] - intv2[0]\n",
    "    \n",
    "    return np.array([a,b,c])"
   ]
  },
  {
   "cell_type": "code",
   "execution_count": 63,
   "id": "2e9818ca",
   "metadata": {},
   "outputs": [],
   "source": [
    "def get_score(y_i):\n",
    "    y_i = np.array(y_i) # 연산을 하기 위해 np.array이용\n",
    "    y_min = np.array([0,0,0])\n",
    "    y_max = np.array([60,60,60])\n",
    "    c_i = np.array([30,30,30])\n",
    "    \n",
    "    if (y_min[1] <= y_i[1] and y_i[1] <= c_i[1]):\n",
    "        ########삼각퍼지수 나눗셈 지어냈는데 괜찮을까요?#########\n",
    "        bunja = subtract(y_i, y_min)\n",
    "        bunmo = subtract(c_i, y_min)\n",
    "        cases = [bunja[0]/bunmo[0],bunja[0]/bunmo[2],bunja[2]/bunmo[0],bunja[2]/bunmo[2]]\n",
    "        print(bunja)\n",
    "        print(bunmo)\n",
    "        print(cases)\n",
    "        score = np.array([min(cases), bunja[1]/bunmo[1], max(cases)])\n",
    "        \n",
    "    elif c_i[1] < y_i[1] and y_i[1] <= y_max[1]:\n",
    "        ########삼각퍼지수 나눗셈 지어냈는데 괜찮을까요?#########\n",
    "        bunja = subtract(y_i, y_max)\n",
    "        bunmo = subtract(c_i, y_max)\n",
    "        cases = [bunja[0]/bunmo[0],bunja[0]/bunmo[2],bunja[2]/bunmo[0],bunja[2]/bunmo[2]]\n",
    "        print(bunja)\n",
    "        print(bunmo)\n",
    "        print(cases)\n",
    "        score = np.array([min(cases), bunja[1]/bunmo[1], max(cases)])\n",
    "        \n",
    "    else :\n",
    "        score = np.array([0,0,0])\n",
    "    \n",
    "    return score"
   ]
  },
  {
   "cell_type": "code",
   "execution_count": 64,
   "id": "f7b3f937",
   "metadata": {},
   "outputs": [],
   "source": [
    "def get_avg_score(data): # 여기서 data는 한 기업의 5번의 배송 정보\n",
    "    total_score = np.array([0,0,0])\n",
    "    arrive_idx = [2,4,6,8,10]\n",
    "    for i in range(len(data)):\n",
    "        if i in arrive_idx:\n",
    "            y_i = pts_list(triangular_fuzzy(int(data[i])))\n",
    "            total_score += get_score(y_i)\n",
    "            \n",
    "    return total_score / 5"
   ]
  },
  {
   "cell_type": "code",
   "execution_count": 65,
   "id": "6c4ee245",
   "metadata": {
    "scrolled": true
   },
   "outputs": [
    {
     "ename": "TypeError",
     "evalue": "'list' object is not callable",
     "output_type": "error",
     "traceback": [
      "\u001b[1;31m---------------------------------------------------------------------------\u001b[0m",
      "\u001b[1;31mTypeError\u001b[0m                                 Traceback (most recent call last)",
      "\u001b[1;32m~\\AppData\\Local\\Temp/ipykernel_25140/3954172463.py\u001b[0m in \u001b[0;36m<module>\u001b[1;34m\u001b[0m\n\u001b[0;32m      2\u001b[0m \u001b[1;33m\u001b[0m\u001b[0m\n\u001b[0;32m      3\u001b[0m \u001b[1;32mfor\u001b[0m \u001b[0mi\u001b[0m \u001b[1;32min\u001b[0m \u001b[0mrange\u001b[0m\u001b[1;33m(\u001b[0m\u001b[0mlen\u001b[0m\u001b[1;33m(\u001b[0m\u001b[0minput_an\u001b[0m\u001b[1;33m)\u001b[0m\u001b[1;33m)\u001b[0m\u001b[1;33m:\u001b[0m\u001b[1;33m\u001b[0m\u001b[1;33m\u001b[0m\u001b[0m\n\u001b[1;32m----> 4\u001b[1;33m     \u001b[0mavg_scores\u001b[0m\u001b[1;33m.\u001b[0m\u001b[0mappend\u001b[0m\u001b[1;33m(\u001b[0m\u001b[1;33m[\u001b[0m\u001b[0minput_an\u001b[0m\u001b[1;33m[\u001b[0m\u001b[0mi\u001b[0m\u001b[1;33m]\u001b[0m\u001b[1;33m[\u001b[0m\u001b[1;36m0\u001b[0m\u001b[1;33m]\u001b[0m\u001b[1;33m,\u001b[0m\u001b[0mget_avg_score\u001b[0m\u001b[1;33m(\u001b[0m\u001b[0minput_an\u001b[0m\u001b[1;33m[\u001b[0m\u001b[0mi\u001b[0m\u001b[1;33m]\u001b[0m\u001b[1;33m)\u001b[0m\u001b[1;33m]\u001b[0m\u001b[1;33m)\u001b[0m \u001b[1;31m# 기업 이름 & 평균 점수\u001b[0m\u001b[1;33m\u001b[0m\u001b[1;33m\u001b[0m\u001b[0m\n\u001b[0m\u001b[0;32m      5\u001b[0m \u001b[1;33m\u001b[0m\u001b[0m\n\u001b[0;32m      6\u001b[0m \u001b[1;33m\u001b[0m\u001b[0m\n",
      "\u001b[1;32m~\\AppData\\Local\\Temp/ipykernel_25140/4126221547.py\u001b[0m in \u001b[0;36mget_avg_score\u001b[1;34m(data)\u001b[0m\n\u001b[0;32m      4\u001b[0m     \u001b[1;32mfor\u001b[0m \u001b[0mi\u001b[0m \u001b[1;32min\u001b[0m \u001b[0mrange\u001b[0m\u001b[1;33m(\u001b[0m\u001b[0mlen\u001b[0m\u001b[1;33m(\u001b[0m\u001b[0mdata\u001b[0m\u001b[1;33m)\u001b[0m\u001b[1;33m)\u001b[0m\u001b[1;33m:\u001b[0m\u001b[1;33m\u001b[0m\u001b[1;33m\u001b[0m\u001b[0m\n\u001b[0;32m      5\u001b[0m         \u001b[1;32mif\u001b[0m \u001b[0mi\u001b[0m \u001b[1;32min\u001b[0m \u001b[0marrive_idx\u001b[0m\u001b[1;33m:\u001b[0m\u001b[1;33m\u001b[0m\u001b[1;33m\u001b[0m\u001b[0m\n\u001b[1;32m----> 6\u001b[1;33m             \u001b[0my_i\u001b[0m \u001b[1;33m=\u001b[0m \u001b[0mpts_list\u001b[0m\u001b[1;33m(\u001b[0m\u001b[0mtriangular_fuzzy\u001b[0m\u001b[1;33m(\u001b[0m\u001b[0mint\u001b[0m\u001b[1;33m(\u001b[0m\u001b[0mdata\u001b[0m\u001b[1;33m[\u001b[0m\u001b[0mi\u001b[0m\u001b[1;33m]\u001b[0m\u001b[1;33m)\u001b[0m\u001b[1;33m)\u001b[0m\u001b[1;33m)\u001b[0m\u001b[1;33m\u001b[0m\u001b[1;33m\u001b[0m\u001b[0m\n\u001b[0m\u001b[0;32m      7\u001b[0m             \u001b[0mtotal_score\u001b[0m \u001b[1;33m+=\u001b[0m \u001b[0mget_score\u001b[0m\u001b[1;33m(\u001b[0m\u001b[0my_i\u001b[0m\u001b[1;33m)\u001b[0m\u001b[1;33m\u001b[0m\u001b[1;33m\u001b[0m\u001b[0m\n\u001b[0;32m      8\u001b[0m \u001b[1;33m\u001b[0m\u001b[0m\n",
      "\u001b[1;31mTypeError\u001b[0m: 'list' object is not callable"
     ]
    }
   ],
   "source": [
    "avg_scores = []\n",
    "\n",
    "for i in range(len(input_an)):\n",
    "    avg_scores.append([input_an[i][0],get_avg_score(input_an[i])]) # 기업 이름 & 평균 점수\n",
    "\n",
    "\n",
    "avg_scores = pd.DataFrame(avg_scores,columns = ['기업명','평균퍼지점수'])\n",
    "avg_scores"
   ]
  },
  {
   "cell_type": "code",
   "execution_count": 7,
   "id": "5ada5d63",
   "metadata": {},
   "outputs": [
    {
     "data": {
      "text/html": [
       "<div>\n",
       "<style scoped>\n",
       "    .dataframe tbody tr th:only-of-type {\n",
       "        vertical-align: middle;\n",
       "    }\n",
       "\n",
       "    .dataframe tbody tr th {\n",
       "        vertical-align: top;\n",
       "    }\n",
       "\n",
       "    .dataframe thead th {\n",
       "        text-align: right;\n",
       "    }\n",
       "</style>\n",
       "<table border=\"1\" class=\"dataframe\">\n",
       "  <thead>\n",
       "    <tr style=\"text-align: right;\">\n",
       "      <th></th>\n",
       "      <th>기업명</th>\n",
       "      <th>평균점수</th>\n",
       "    </tr>\n",
       "  </thead>\n",
       "  <tbody>\n",
       "    <tr>\n",
       "      <th>1</th>\n",
       "      <td>기업 B</td>\n",
       "      <td>0.800000</td>\n",
       "    </tr>\n",
       "    <tr>\n",
       "      <th>3</th>\n",
       "      <td>기업 D</td>\n",
       "      <td>0.714286</td>\n",
       "    </tr>\n",
       "    <tr>\n",
       "      <th>0</th>\n",
       "      <td>기업 A</td>\n",
       "      <td>0.514286</td>\n",
       "    </tr>\n",
       "    <tr>\n",
       "      <th>4</th>\n",
       "      <td>기업 E</td>\n",
       "      <td>0.371429</td>\n",
       "    </tr>\n",
       "    <tr>\n",
       "      <th>2</th>\n",
       "      <td>기업 C</td>\n",
       "      <td>0.085714</td>\n",
       "    </tr>\n",
       "  </tbody>\n",
       "</table>\n",
       "</div>"
      ],
      "text/plain": [
       "    기업명      평균점수\n",
       "1  기업 B  0.800000\n",
       "3  기업 D  0.714286\n",
       "0  기업 A  0.514286\n",
       "4  기업 E  0.371429\n",
       "2  기업 C  0.085714"
      ]
     },
     "execution_count": 7,
     "metadata": {},
     "output_type": "execute_result"
    }
   ],
   "source": [
    "avg_scores.sort_values('평균점수',ascending=False)"
   ]
  }
 ],
 "metadata": {
  "kernelspec": {
   "display_name": "Python 3 (ipykernel)",
   "language": "python",
   "name": "python3"
  },
  "language_info": {
   "codemirror_mode": {
    "name": "ipython",
    "version": 3
   },
   "file_extension": ".py",
   "mimetype": "text/x-python",
   "name": "python",
   "nbconvert_exporter": "python",
   "pygments_lexer": "ipython3",
   "version": "3.7.11"
  },
  "toc": {
   "base_numbering": 1,
   "nav_menu": {},
   "number_sections": true,
   "sideBar": true,
   "skip_h1_title": false,
   "title_cell": "Table of Contents",
   "title_sidebar": "Contents",
   "toc_cell": false,
   "toc_position": {},
   "toc_section_display": true,
   "toc_window_display": false
  }
 },
 "nbformat": 4,
 "nbformat_minor": 5
}
